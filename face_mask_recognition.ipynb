{
 "cells": [
  {
   "cell_type": "code",
   "execution_count": 1,
   "metadata": {},
   "outputs": [],
   "source": [
    "import cv2 , os"
   ]
  },
  {
   "cell_type": "code",
   "execution_count": 21,
   "metadata": {},
   "outputs": [
    {
     "name": "stdout",
     "output_type": "stream",
     "text": [
      "{'with mask': 0, 'without mask': 1}\n",
      "['with mask', 'without mask']\n",
      "[0, 1]\n"
     ]
    }
   ],
   "source": [
    "data_path=\"C:/Users/hp/Desktop/face-mask-detection-keras-master/dataset\"\n",
    "categories= os.listdir(data_path)\n",
    "labels=[i for i in range(len(categories))]\n",
    "\n",
    "label_dict=dict(zip(categories,labels))\n",
    "\n",
    "print(label_dict)\n",
    "print(categories)\n",
    "print(labels)"
   ]
  },
  {
   "cell_type": "code",
   "execution_count": 22,
   "metadata": {},
   "outputs": [],
   "source": [
    "img_size=100\n",
    "data=[]\n",
    "target=[]\n",
    "for category in categories:\n",
    "    folder_path=os.path.join(data_path,category)\n",
    "    img_names=os.listdir(folder_path)\n",
    "    \n",
    "    for img_name in img_names:\n",
    "        img_path=os.path.join(folder_path,img_name)\n",
    "        img=cv2.imread(img_path)\n",
    "        \n",
    "        try:\n",
    "            gray=cv2.cvtColor(img,cv2.COLOR_BGR2GRAY)\n",
    "            resized=cv2.resize(gray,(img_size,img_size))\n",
    "            data.append(resized)\n",
    "            target.append(label_dict[category])\n",
    "        \n",
    "        except Exception as e:\n",
    "            print('Exception:',e)\n",
    "            "
   ]
  },
  {
   "cell_type": "code",
   "execution_count": 23,
   "metadata": {},
   "outputs": [],
   "source": [
    "import numpy as np\n",
    "\n",
    "data=np.array(data)/255.0\n",
    "data=np.reshape(data,(data.shape[0],img_size,img_size,1))\n",
    "target=np.array(target)\n",
    "\n",
    "from keras.utils import np_utils\n",
    "\n",
    "new_target=np_utils.to_categorical(target)\n"
   ]
  },
  {
   "cell_type": "code",
   "execution_count": 24,
   "metadata": {},
   "outputs": [],
   "source": [
    "np.save(\"data\",data)\n",
    "np.save(\"target\",new_target)"
   ]
  },
  {
   "cell_type": "code",
   "execution_count": 25,
   "metadata": {},
   "outputs": [],
   "source": [
    "import numpy as np\n",
    "\n",
    "data=np.load(\"data.npy\")\n",
    "target=np.load(\"target.npy\")"
   ]
  },
  {
   "cell_type": "code",
   "execution_count": 26,
   "metadata": {},
   "outputs": [],
   "source": [
    "from keras.models import Sequential\n",
    "from keras.layers import Dense,Activation,Flatten,Dropout\n",
    "from keras.layers import Conv2D,MaxPooling2D\n",
    "from keras.callbacks import ModelCheckpoint\n",
    "\n",
    "model=Sequential()\n",
    "\n",
    "model.add(Conv2D(200,(3,3),input_shape=data.shape[1:]))\n",
    "model.add(Activation('relu'))\n",
    "model.add(MaxPooling2D(pool_size=(2,2)))\n",
    "#The first CNN layer followed by Relu and MaxPooling layers\n",
    "\n",
    "model.add(Conv2D(100,(3,3)))\n",
    "model.add(Activation('relu'))\n",
    "model.add(MaxPooling2D(pool_size=(2,2)))\n",
    "#The second convolution layer followed by Relu and MaxPooling layers\n",
    "\n",
    "model.add(Flatten())\n",
    "model.add(Dropout(0.5))\n",
    "#Flatten layer to stack the output convolutions from second convolution layer\n",
    "model.add(Dense(50,activation='relu'))\n",
    "#Dense layer of 64 neurons\n",
    "model.add(Dense(2,activation='softmax'))\n",
    "#The Final layer with two outputs for two categories\n",
    "\n",
    "model.compile(loss='categorical_crossentropy',optimizer='adam',metrics=['accuracy'])"
   ]
  },
  {
   "cell_type": "code",
   "execution_count": 27,
   "metadata": {},
   "outputs": [],
   "source": [
    "from sklearn.model_selection import train_test_split\n",
    "\n",
    "train_data,test_data,train_target,test_target=train_test_split(data,target,test_size=0.1)"
   ]
  },
  {
   "cell_type": "code",
   "execution_count": 28,
   "metadata": {},
   "outputs": [
    {
     "name": "stdout",
     "output_type": "stream",
     "text": [
      "Train on 997 samples, validate on 250 samples\n",
      "Epoch 1/20\n",
      "997/997 [==============================] - 43s 43ms/step - loss: 0.7153 - accuracy: 0.5567 - val_loss: 0.6482 - val_accuracy: 0.6400\n",
      "Epoch 2/20\n",
      "997/997 [==============================] - 44s 44ms/step - loss: 0.5475 - accuracy: 0.7352 - val_loss: 0.5775 - val_accuracy: 0.7040\n",
      "Epoch 3/20\n",
      "997/997 [==============================] - 45s 45ms/step - loss: 0.3870 - accuracy: 0.8295 - val_loss: 0.3731 - val_accuracy: 0.8520\n",
      "Epoch 4/20\n",
      "997/997 [==============================] - 44s 44ms/step - loss: 0.2916 - accuracy: 0.8847 - val_loss: 0.2868 - val_accuracy: 0.9080\n",
      "Epoch 5/20\n",
      "997/997 [==============================] - 44s 44ms/step - loss: 0.1957 - accuracy: 0.9268 - val_loss: 0.2320 - val_accuracy: 0.9160\n",
      "Epoch 6/20\n",
      "997/997 [==============================] - 46s 46ms/step - loss: 0.1389 - accuracy: 0.9549 - val_loss: 0.2894 - val_accuracy: 0.8880\n",
      "Epoch 7/20\n",
      "997/997 [==============================] - 46s 46ms/step - loss: 0.1436 - accuracy: 0.9438 - val_loss: 0.2007 - val_accuracy: 0.9320\n",
      "Epoch 8/20\n",
      "997/997 [==============================] - 45s 46ms/step - loss: 0.0761 - accuracy: 0.9729 - val_loss: 0.1983 - val_accuracy: 0.9480\n",
      "Epoch 9/20\n",
      "997/997 [==============================] - 45s 45ms/step - loss: 0.0498 - accuracy: 0.9829 - val_loss: 0.2074 - val_accuracy: 0.9400\n",
      "Epoch 10/20\n",
      "997/997 [==============================] - 46s 46ms/step - loss: 0.0596 - accuracy: 0.9769 - val_loss: 0.2057 - val_accuracy: 0.9480\n",
      "Epoch 11/20\n",
      "997/997 [==============================] - 47s 47ms/step - loss: 0.0488 - accuracy: 0.9809 - val_loss: 0.2049 - val_accuracy: 0.9480\n",
      "Epoch 12/20\n",
      "997/997 [==============================] - 49s 49ms/step - loss: 0.0480 - accuracy: 0.9829 - val_loss: 0.3036 - val_accuracy: 0.9320\n",
      "Epoch 13/20\n",
      "997/997 [==============================] - 55s 55ms/step - loss: 0.0443 - accuracy: 0.9840 - val_loss: 0.2416 - val_accuracy: 0.9600\n",
      "Epoch 14/20\n",
      "997/997 [==============================] - 45s 45ms/step - loss: 0.0396 - accuracy: 0.9850 - val_loss: 0.2556 - val_accuracy: 0.9520\n",
      "Epoch 15/20\n",
      "997/997 [==============================] - 45s 45ms/step - loss: 0.0263 - accuracy: 0.9930 - val_loss: 0.2652 - val_accuracy: 0.9440\n",
      "Epoch 16/20\n",
      "997/997 [==============================] - 44s 44ms/step - loss: 0.0306 - accuracy: 0.9870 - val_loss: 0.2048 - val_accuracy: 0.9560\n",
      "Epoch 17/20\n",
      "997/997 [==============================] - 44s 45ms/step - loss: 0.0191 - accuracy: 0.9960 - val_loss: 0.3488 - val_accuracy: 0.9560\n",
      "Epoch 18/20\n",
      "997/997 [==============================] - 45s 45ms/step - loss: 0.0239 - accuracy: 0.9900 - val_loss: 0.3280 - val_accuracy: 0.9600\n",
      "Epoch 19/20\n",
      "997/997 [==============================] - 45s 45ms/step - loss: 0.0303 - accuracy: 0.9880 - val_loss: 0.3184 - val_accuracy: 0.9360\n",
      "Epoch 20/20\n",
      "997/997 [==============================] - 44s 44ms/step - loss: 0.0261 - accuracy: 0.9930 - val_loss: 0.3084 - val_accuracy: 0.9600\n"
     ]
    }
   ],
   "source": [
    "\n",
    "checkpoint = ModelCheckpoint('model-{epoch:03d}.model',monitor='val_loss',verbose=0,save_best_only=True,mode='auto')\n",
    "history=model.fit(train_data,train_target,epochs=20,callbacks=[checkpoint],validation_split=0.2)"
   ]
  },
  {
   "cell_type": "code",
   "execution_count": 29,
   "metadata": {},
   "outputs": [
    {
     "name": "stdout",
     "output_type": "stream",
     "text": [
      "139/139 [==============================] - 1s 10ms/step\n",
      "[0.08754037524298798, 0.9640287756919861]\n"
     ]
    }
   ],
   "source": [
    "print(model.evaluate(test_data,test_target))"
   ]
  },
  {
   "cell_type": "code",
   "execution_count": 30,
   "metadata": {},
   "outputs": [],
   "source": [
    "\n",
    "from keras.models import load_model\n",
    "import cv2\n",
    "import numpy as np"
   ]
  },
  {
   "cell_type": "code",
   "execution_count": 31,
   "metadata": {},
   "outputs": [],
   "source": [
    "\n",
    "model = load_model('model-008.model')"
   ]
  },
  {
   "cell_type": "code",
   "execution_count": 32,
   "metadata": {},
   "outputs": [],
   "source": [
    "\n",
    "face_clsfr=cv2.CascadeClassifier('C:/Users/hp/Desktop/face-mask-detection-keras-master/haarcascade_frontalface_default.xml')\n",
    "\n",
    "source=cv2.VideoCapture(0)\n",
    "\n",
    "labels_dict={0:'MASK',1:'NO MASK'}\n",
    "color_dict={0:(0,255,0),1:(0,0,255)}"
   ]
  },
  {
   "cell_type": "code",
   "execution_count": 33,
   "metadata": {},
   "outputs": [],
   "source": [
    "\n",
    "while(True):\n",
    "\n",
    "    ret,img=source.read()\n",
    "    gray=cv2.cvtColor(img,cv2.COLOR_BGR2GRAY)\n",
    "    faces=face_clsfr.detectMultiScale(gray,1.3,5)  \n",
    "\n",
    "    for (x,y,w,h) in faces:\n",
    "    \n",
    "        face_img=gray[y:y+w,x:x+w]\n",
    "        resized=cv2.resize(face_img,(100,100))\n",
    "        normalized=resized/255.0\n",
    "        reshaped=np.reshape(normalized,(1,100,100,1))\n",
    "        result=model.predict(reshaped)\n",
    "\n",
    "        label=np.argmax(result,axis=1)[0]\n",
    "      \n",
    "        cv2.rectangle(img,(x,y),(x+w,y+h),color_dict[label],2)\n",
    "        cv2.rectangle(img,(x,y-40),(x+w,y),color_dict[label],-1)\n",
    "        cv2.putText(img, labels_dict[label], (x, y-10),cv2.FONT_HERSHEY_SIMPLEX,0.8,(255,255,255),2)\n",
    "        \n",
    "        \n",
    "    cv2.imshow('LIVE',img)\n",
    "    key=cv2.waitKey(1)\n",
    "    \n",
    "    if(key==27):\n",
    "        break\n",
    "        \n",
    "cv2.destroyAllWindows()\n",
    "source.release()"
   ]
  },
  {
   "cell_type": "code",
   "execution_count": null,
   "metadata": {},
   "outputs": [],
   "source": []
  }
 ],
 "metadata": {
  "kernelspec": {
   "display_name": "Python 3",
   "language": "python",
   "name": "python3"
  },
  "language_info": {
   "codemirror_mode": {
    "name": "ipython",
    "version": 3
   },
   "file_extension": ".py",
   "mimetype": "text/x-python",
   "name": "python",
   "nbconvert_exporter": "python",
   "pygments_lexer": "ipython3",
   "version": "3.7.10"
  }
 },
 "nbformat": 4,
 "nbformat_minor": 4
}
